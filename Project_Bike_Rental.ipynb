{
 "cells": [
  {
   "cell_type": "code",
   "execution_count": 1,
   "metadata": {},
   "outputs": [],
   "source": [
    "#Import libraries\n",
    "import os\n",
    "import pandas as pd\n",
    "import numpy as np\n",
    "\n",
    "#import libraries for plots\n",
    "import matplotlib.pyplot as plt\n",
    "import seaborn as sns\n",
    "% matplotlib inline  "
   ]
  },
  {
   "cell_type": "code",
   "execution_count": null,
   "metadata": {},
   "outputs": [],
   "source": [
    "#Set working directory\n",
    "os.chdir(\"C:/Users/visu/Desktop/Edwisor/Projects/Project 1\")\n",
    "print(os.getcwd())"
   ]
  },
  {
   "cell_type": "code",
   "execution_count": null,
   "metadata": {},
   "outputs": [],
   "source": [
    "#Read the csv file\n",
    "day = pd.read_csv(\"day.csv\", sep=\",\")"
   ]
  },
  {
   "cell_type": "code",
   "execution_count": null,
   "metadata": {},
   "outputs": [],
   "source": [
    "#Get the number of rows and columns\n",
    "day.shape"
   ]
  },
  {
   "cell_type": "code",
   "execution_count": null,
   "metadata": {},
   "outputs": [],
   "source": [
    "#Get first 5 rows\n",
    "print(day.head())\n",
    "\n",
    "#Get the data types of variables\n",
    "print(day.dtypes)"
   ]
  },
  {
   "cell_type": "code",
   "execution_count": null,
   "metadata": {},
   "outputs": [],
   "source": [
    "#Create a new dataframe containing required columns and creating new columns\n",
    "df = day.copy()\n",
    "df.head()\n",
    "\n",
    "#Create new columns\n",
    "df['actual_temp'] = day['temp'] * 39\n",
    "df['actual_feel_temp'] = day['atemp'] * 50\n",
    "df['actual_windspeed'] = day['windspeed'] * 67\n",
    "df['actual_hum'] = day['hum'] * 100\n",
    "\n",
    "df['actual_season'] = day['season'].replace([1,2,3,4],[\"Spring\",\"Summer\",\"Fall\",\"Winter\"])\n",
    "df['actual_yr'] = day['yr'].replace([0,1],[\"2011\",\"2012\"])\n",
    "df['actual_holiday'] = day['holiday'].replace([0,1],[\"Working day\",\"Holiday\"])\n",
    "df['actual_weathersit'] = day['weathersit'].replace([1,2,3,4],[\"Clear\",\"Cloudy/Mist\",\"Rain/Snow/Fog\",\"Heavy Rain/Snow/Fog\"])"
   ]
  },
  {
   "cell_type": "code",
   "execution_count": null,
   "metadata": {},
   "outputs": [],
   "source": [
    "#Check the data types od variables\n",
    "df.dtypes\n",
    "\n",
    "#Change the data types\n",
    "df['weathersit'] = df['weathersit'].astype('category')\n",
    "df['holiday'] = df['holiday'].astype('category')\n",
    "df['yr'] = df['yr'].astype('category')\n",
    "df['season'] = df['season'].astype('category')\n",
    "df['workingday'] = df['workingday'].astype('category')\n",
    "df['weekday'] = df['weekday'].astype('category')\n",
    "df['mnth'] = df['mnth'].astype('category')\n",
    "df['actual_season'] = df['actual_season'].astype('category')\n",
    "df['actual_yr'] = df['actual_yr'].astype('category')\n",
    "df['actual_holiday'] = df['actual_holiday'].astype('category')\n",
    "df['actual_weathersit'] = df['actual_weathersit'].astype('category')\n",
    "\n",
    "df.dtypes"
   ]
  },
  {
   "cell_type": "code",
   "execution_count": null,
   "metadata": {},
   "outputs": [],
   "source": [
    "#Check the count of values of categorical variables\n",
    "print(df.workingday.value_counts())\n",
    "print(df.weekday.value_counts())\n",
    "print(df.mnth.value_counts())\n",
    "print(df.actual_yr.value_counts())\n",
    "print(df.actual_holiday.value_counts())\n",
    "print(df.actual_weathersit.value_counts())"
   ]
  },
  {
   "cell_type": "code",
   "execution_count": null,
   "metadata": {},
   "outputs": [],
   "source": [
    "#Check if there are missing values\n",
    "df.isnull().sum()"
   ]
  },
  {
   "cell_type": "code",
   "execution_count": null,
   "metadata": {},
   "outputs": [],
   "source": [
    "#Check the bar graph of categorical Data using factorplot\n",
    "sns.set_style(\"whitegrid\")\n",
    "sns.factorplot(data=df, x='actual_season', kind= 'count',size=4,aspect=2)\n",
    "sns.factorplot(data=df, x='actual_weathersit', kind= 'count',size=4,aspect=2)\n",
    "sns.factorplot(data=df, x='workingday', kind= 'count',size=4,aspect=2)\n"
   ]
  },
  {
   "cell_type": "code",
   "execution_count": null,
   "metadata": {},
   "outputs": [],
   "source": [
    "#Check the distribution of numerical data using histogram\n",
    "plt.hist(data=df, x='actual_temp', bins='auto', label='Temperature')\n",
    "plt.xlabel('Temperature in Celcius')\n",
    "plt.title(\"Temperature Distribution\")"
   ]
  },
  {
   "cell_type": "code",
   "execution_count": null,
   "metadata": {},
   "outputs": [],
   "source": [
    "#Check the distribution of numerical data using histogram\n",
    "plt.hist(data=df, x='actual_hum', bins='auto', label='Temperature')\n",
    "plt.xlabel('Humidity')\n",
    "plt.title(\"Humidity Distribution\")"
   ]
  },
  {
   "cell_type": "code",
   "execution_count": null,
   "metadata": {},
   "outputs": [],
   "source": [
    "#Check for outliers in data using boxplot\n",
    "sns.boxplot(data=df[['actual_temp','actual_feel_temp','actual_windspeed','actual_hum']])\n",
    "fig=plt.gcf()\n",
    "fig.set_size_inches(8,8)"
   ]
  },
  {
   "cell_type": "code",
   "execution_count": null,
   "metadata": {},
   "outputs": [],
   "source": [
    "#Remove outliers in Humidity\n",
    "q75, q25 = np.percentile(df['actual_hum'], [75 ,25])\n",
    "print(q75,q25)\n",
    "iqr = q75 - q25\n",
    "print(iqr)\n",
    "min = q25 - (iqr*1.5)\n",
    "max = q75 + (iqr*1.5)\n",
    "print(min)\n",
    "print(max)\n",
    "\n",
    "df = df.drop(df[df.iloc[:,19] < min].index)\n",
    "df = df.drop(df[df.iloc[:,19] > max].index)"
   ]
  },
  {
   "cell_type": "code",
   "execution_count": null,
   "metadata": {},
   "outputs": [],
   "source": [
    "#Remove outliers in Windspeed\n",
    "q75, q25 = np.percentile(df['actual_windspeed'], [75 ,25])\n",
    "print(q75,q25)\n",
    "iqr = q75 - q25\n",
    "print(iqr)\n",
    "min = q25 - (iqr*1.5)\n",
    "max = q75 + (iqr*1.5)\n",
    "print(min)\n",
    "print(max)\n",
    "\n",
    "df = df.drop(df[df.iloc[:,18] < min].index)\n",
    "df = df.drop(df[df.iloc[:,18] > max].index)"
   ]
  },
  {
   "cell_type": "code",
   "execution_count": null,
   "metadata": {},
   "outputs": [],
   "source": [
    "#Check for collinearity using corelation matrix.\n",
    "cor_mat= df[:].corr()\n",
    "mask = np.array(cor_mat)\n",
    "mask[np.tril_indices_from(mask)] = False\n",
    "fig=plt.gcf()\n",
    "fig.set_size_inches(30,12)\n",
    "sns.heatmap(data=cor_mat,mask=mask,square=True,annot=True,cbar=True)"
   ]
  },
  {
   "cell_type": "code",
   "execution_count": null,
   "metadata": {},
   "outputs": [],
   "source": [
    "#Check the distribution of Temperature and Humdity against Bike rental count using scatter plot\n",
    "fig, axs = plt.subplots(1,2, figsize=(15, 5), sharey=True)\n",
    "axs[0].scatter(data=df, x='actual_temp', y='cnt')\n",
    "axs[1].scatter(data=df, x='actual_hum', y='cnt', color = 'red')\n",
    "fig.suptitle('Scatter plot for Temperature and Humidity')\n",
    "plt.xlabel(\"Humidity\")\n",
    "plt.ylabel(\"Count of bikes\")"
   ]
  },
  {
   "cell_type": "code",
   "execution_count": null,
   "metadata": {},
   "outputs": [],
   "source": [
    "#Check the distribution of Feel Temperature and Windspeed against Bike rental count using scatter plot\n",
    "fig, axs = plt.subplots(1,2, figsize=(15, 5), sharey=True)\n",
    "axs[0].scatter(data=df, x='actual_feel_temp', y='cnt')\n",
    "axs[1].scatter(data=df, x='actual_windspeed', y='cnt', color = 'red')\n",
    "fig.suptitle('Scatter plot for Feel Temperature and Windspeed')\n",
    "plt.xlabel(\"Windspeed\")\n",
    "plt.ylabel(\"Count of bikes\")"
   ]
  },
  {
   "cell_type": "code",
   "execution_count": null,
   "metadata": {},
   "outputs": [],
   "source": [
    "df = df.drop(columns=['holiday','instant','dteday','atemp','casual','registered','actual_temp','actual_feel_temp',\n",
    "                      'actual_windspeed','actual_hum','actual_season','actual_yr','actual_holiday','actual_weathersit'])"
   ]
  },
  {
   "cell_type": "markdown",
   "metadata": {},
   "source": [
    "## DECISION TREE\n",
    "#MAPE: 18.40%\n",
    "#Accuracy: 81.60%"
   ]
  },
  {
   "cell_type": "code",
   "execution_count": null,
   "metadata": {},
   "outputs": [],
   "source": [
    "#Import Libraries for decision tree\n",
    "from sklearn.cross_validation import train_test_split\n",
    "from sklearn.tree import DecisionTreeRegressor"
   ]
  },
  {
   "cell_type": "code",
   "execution_count": null,
   "metadata": {},
   "outputs": [],
   "source": [
    "#Divide data into train and test\n",
    "train,test = train_test_split(df, test_size = 0.2, random_state = 123)"
   ]
  },
  {
   "cell_type": "code",
   "execution_count": null,
   "metadata": {},
   "outputs": [],
   "source": [
    "#Train the model\n",
    "dt_model = DecisionTreeRegressor(random_state=123).fit(train.iloc[:,0:9], train.iloc[:,9])"
   ]
  },
  {
   "cell_type": "code",
   "execution_count": null,
   "metadata": {},
   "outputs": [],
   "source": [
    "#Predict the results of test data\n",
    "dt_predictions = dt_model.predict(test.iloc[:,0:9])"
   ]
  },
  {
   "cell_type": "code",
   "execution_count": null,
   "metadata": {},
   "outputs": [],
   "source": [
    "df_dt = pd.DataFrame({'actual': test.iloc[:,9], 'pred': dt_predictions})\n",
    "df_dt.head()"
   ]
  },
  {
   "cell_type": "code",
   "execution_count": null,
   "metadata": {},
   "outputs": [],
   "source": [
    "#Function for Mean Absolute Percentage Error\n",
    "def MAPE(y_actual,y_pred):\n",
    "    mape = np.mean(np.abs((y_actual - y_pred)/y_actual))\n",
    "    return mape"
   ]
  },
  {
   "cell_type": "code",
   "execution_count": null,
   "metadata": {},
   "outputs": [],
   "source": [
    "#Calculate MAPE for decision tree\n",
    "MAPE(test.iloc[:,9],dt_predictions)\n",
    "#MAPE: 18.40%\n",
    "#Accuracy: 81.60%"
   ]
  },
  {
   "cell_type": "markdown",
   "metadata": {},
   "source": [
    "# Random Forest\n",
    "#MAPE: 13.10%\n",
    "#Accuracy:86.90%"
   ]
  },
  {
   "cell_type": "code",
   "execution_count": null,
   "metadata": {},
   "outputs": [],
   "source": [
    "#Import library for RandomForestRegressor\n",
    "from sklearn.ensemble import RandomForestRegressor"
   ]
  },
  {
   "cell_type": "code",
   "execution_count": null,
   "metadata": {},
   "outputs": [],
   "source": [
    "#Train the model\n",
    "rf_model = RandomForestRegressor(n_estimators=500,random_state=123).fit(train.iloc[:,0:9], train.iloc[:,9])"
   ]
  },
  {
   "cell_type": "code",
   "execution_count": null,
   "metadata": {},
   "outputs": [],
   "source": [
    "#Predict the results of test data\n",
    "rf_predictions = rf_model.predict(test.iloc[:,0:9])"
   ]
  },
  {
   "cell_type": "code",
   "execution_count": null,
   "metadata": {},
   "outputs": [],
   "source": [
    "#Create a dataframe for actual values and predicted values\n",
    "df_rf = pd.DataFrame({'actual': test.iloc[:,9], 'pred': rf_predictions})\n",
    "df_rf.head()"
   ]
  },
  {
   "cell_type": "code",
   "execution_count": null,
   "metadata": {},
   "outputs": [],
   "source": [
    "#Calculate MAPE\n",
    "MAPE(test.iloc[:,9],rf_predictions)\n",
    "#MAPE: 13.10%\n",
    "#Accuracy:86.90%"
   ]
  },
  {
   "cell_type": "markdown",
   "metadata": {},
   "source": [
    "# Linear Regression\n",
    "#MAPE:17.07%\n",
    "#Accuracy: 82.93%\n",
    "#Adjusted r2: 0.852\n",
    "#F-stat: 122.7"
   ]
  },
  {
   "cell_type": "code",
   "execution_count": null,
   "metadata": {},
   "outputs": [],
   "source": [
    "#import libraries for Linear regression\n",
    "import statsmodels.api as sm\n",
    "from sklearn.metrics import mean_squared_error"
   ]
  },
  {
   "cell_type": "code",
   "execution_count": null,
   "metadata": {},
   "outputs": [],
   "source": [
    "#Train the model\n",
    "lr_model = sm.OLS(train.iloc[:,9].astype(float), train.iloc[:,0:9].astype(float)).fit()"
   ]
  },
  {
   "cell_type": "code",
   "execution_count": null,
   "metadata": {
    "scrolled": true
   },
   "outputs": [],
   "source": [
    "#Check the summary of model\n",
    "lr_model.summary()"
   ]
  },
  {
   "cell_type": "code",
   "execution_count": null,
   "metadata": {},
   "outputs": [],
   "source": [
    "#Predict the results of test data\n",
    "lr_predictions = lr_model.predict(test.iloc[:,0:9])"
   ]
  },
  {
   "cell_type": "code",
   "execution_count": null,
   "metadata": {},
   "outputs": [],
   "source": [
    "##Create a dataframe for actual values and predicted values\n",
    "df_lr = pd.DataFrame({'actual': test.iloc[:,9], 'pred': lr_predictions})\n",
    "df_lr.head()"
   ]
  },
  {
   "cell_type": "code",
   "execution_count": null,
   "metadata": {},
   "outputs": [],
   "source": [
    "#Calclulate MAPE\n",
    "MAPE(test.iloc[:,9],lr_predictions)\n",
    "#MAPE:19.08%\n",
    "#Accuracy: 81.92% \n",
    "#Adjusted r2: 0.967\n",
    "#F-stat: 1852"
   ]
  },
  {
   "cell_type": "code",
   "execution_count": null,
   "metadata": {},
   "outputs": [],
   "source": [
    "#Create continuous data. Save target variable first\n",
    "train_lr = train[['cnt','temp','hum','windspeed']]\n",
    "test_lr = test[['cnt','temp','hum','windspeed']]"
   ]
  },
  {
   "cell_type": "code",
   "execution_count": null,
   "metadata": {},
   "outputs": [],
   "source": [
    "##Create dummies for categorical variables\n",
    "cat_names = [\"season\", \"yr\", \"mnth\", \"weekday\", \"workingday\", \"weathersit\"]\n",
    "\n",
    "for i in cat_names:\n",
    "    temp1 = pd.get_dummies(train[i], prefix = i)\n",
    "    temp2 = pd.get_dummies(test[i], prefix = i)\n",
    "    train_lr = train_lr.join(temp1)\n",
    "    test_lr = test_lr.join(temp2)"
   ]
  },
  {
   "cell_type": "code",
   "execution_count": null,
   "metadata": {},
   "outputs": [],
   "source": [
    "#Train the model\n",
    "lr_model = sm.OLS(train_lr.iloc[:,0].astype(float), train_lr.iloc[:,1:34].astype(float)).fit()"
   ]
  },
  {
   "cell_type": "code",
   "execution_count": null,
   "metadata": {
    "scrolled": true
   },
   "outputs": [],
   "source": [
    "#summary of model\n",
    "lr_model.summary()"
   ]
  },
  {
   "cell_type": "code",
   "execution_count": null,
   "metadata": {},
   "outputs": [],
   "source": [
    "#Predict the results of test data\n",
    "lr_predictions = lr_model.predict(test_lr.iloc[:,1:34])"
   ]
  },
  {
   "cell_type": "code",
   "execution_count": null,
   "metadata": {},
   "outputs": [],
   "source": [
    "##Create a dataframe for actual values and predicted values\n",
    "df_lr = pd.DataFrame({'actual': test_lr.iloc[:,0], 'pred': lr_predictions})\n",
    "df_lr.head()"
   ]
  },
  {
   "cell_type": "code",
   "execution_count": null,
   "metadata": {},
   "outputs": [],
   "source": [
    "#Calclulate MAPE\n",
    "MAPE(test_lr.iloc[:,0],lr_predictions)\n",
    "#MAPE:17.07%\n",
    "#Accuracy: 82.93%\n",
    "#Adjusted r2: 0.852\n",
    "#F-stat: 122.7"
   ]
  },
  {
   "cell_type": "code",
   "execution_count": null,
   "metadata": {},
   "outputs": [],
   "source": []
  }
 ],
 "metadata": {
  "kernelspec": {
   "display_name": "Python 3",
   "language": "python",
   "name": "python3"
  },
  "language_info": {
   "codemirror_mode": {
    "name": "ipython",
    "version": 3
   },
   "file_extension": ".py",
   "mimetype": "text/x-python",
   "name": "python",
   "nbconvert_exporter": "python",
   "pygments_lexer": "ipython3",
   "version": "3.6.9"
  }
 },
 "nbformat": 4,
 "nbformat_minor": 2
}
